{
 "cells": [
  {
   "cell_type": "markdown",
   "metadata": {},
   "source": [
    "# roslaunch command"
   ]
  },
  {
   "cell_type": "markdown",
   "metadata": {},
   "source": [
    "* **roslaunch** => starts ROS nodes\n",
    "* **Format** =>\n",
    "```\n",
    "    roslaunch ros_package package_launch_file\n",
    "```\n",
    "* To launch empty world\n",
    "```\n",
    "    roslaunch gazebo_ros empty_world.launch\n",
    "```\n",
    "* **Arguments**=>\n",
    "    * **paused** => Start Gazebo in a paused state (default false)\n",
    "    * **use_sim_time** => Tells ROS nodes asking for time to get the Gazebo-published simulation time, published over the ROS topic /clock (default true)\n",
    "    * **gui** => Launch the user interface window of Gazebo (default true)\n",
    "    * **recording** => Enable gazebo state log recording\n",
    "    * **debug** => Start gzserver (Gazebo Server) in debug mode using gdb (default false)\n",
    "    * **verbose** => Run gzserver and gzclient with --verbose, printing errors and warnings to the terminal (default false)\n",
    "* **Example** =>\n",
    "```\n",
    "    roslaunch gazebo_ros empty_world.launch paused:=true use_sim_time:=false gui:=true throttled:=false recording:=false debug:=true verbose:=true\n",
    "```"
   ]
  },
  {
   "cell_type": "markdown",
   "metadata": {},
   "source": [
    "# launch file"
   ]
  },
  {
   "cell_type": "markdown",
   "metadata": {},
   "source": []
  }
 ],
 "metadata": {
  "kernelspec": {
   "display_name": "Python 3",
   "language": "python",
   "name": "python3"
  },
  "language_info": {
   "codemirror_mode": {
    "name": "ipython",
    "version": 3
   },
   "file_extension": ".py",
   "mimetype": "text/x-python",
   "name": "python",
   "nbconvert_exporter": "python",
   "pygments_lexer": "ipython3",
   "version": "3.7.6"
  }
 },
 "nbformat": 4,
 "nbformat_minor": 4
}
