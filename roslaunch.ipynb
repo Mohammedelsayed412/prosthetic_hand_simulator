{
 "cells": [
  {
   "cell_type": "markdown",
   "metadata": {},
   "source": [
    "# Run launch file"
   ]
  },
  {
   "cell_type": "markdown",
   "metadata": {},
   "source": [
    "```\n",
    "cd sim_env_ws\n",
    "source devel/setup.sh\n",
    "roslaunch prosthetic_gazebo sim_env.launch\n",
    "\n",
    "```"
   ]
  },
  {
   "cell_type": "markdown",
   "metadata": {},
   "source": [
    "**Image of what appears**:  [Image](images/sim_env.png)"
   ]
  },
  {
   "cell_type": "markdown",
   "metadata": {},
   "source": [
    "# roslaunch command"
   ]
  },
  {
   "cell_type": "markdown",
   "metadata": {},
   "source": [
    "* **roslaunch** => starts ROS nodes\n",
    "* **Format** =>\n",
    "```\n",
    "    roslaunch ros_package package_launch_file\n",
    "```\n",
    "* To launch empty world\n",
    "```\n",
    "    roslaunch gazebo_ros empty_world.launch\n",
    "```\n",
    "* **Arguments**=>\n",
    "    * **paused** => Start Gazebo in a paused state (default false)\n",
    "    * **use_sim_time** => Tells ROS nodes asking for time to get the Gazebo-published simulation time, published over the ROS topic /clock (default true)\n",
    "    * **gui** => Launch the user interface window of Gazebo (default true)\n",
    "    * **recording** => Enable gazebo state log recording\n",
    "    * **debug** => Start gzserver (Gazebo Server) in debug mode using gdb (default false)\n",
    "    * **verbose** => Run gzserver and gzclient with --verbose, printing errors and warnings to the terminal (default false)\n",
    "* **Example** =>\n",
    "```\n",
    "    roslaunch gazebo_ros empty_world.launch paused:=true use_sim_time:=false gui:=true throttled:=false recording:=false debug:=true verbose:=true\n",
    "```"
   ]
  },
  {
   "cell_type": "markdown",
   "metadata": {},
   "source": [
    "# launch file"
   ]
  },
  {
   "cell_type": "markdown",
   "metadata": {},
   "source": [
    "```\n",
    "<launch>\n",
    "  <arg name=\"gui\" default=\"true\"/>\n",
    "  <arg name=\"start_gazebo\" default=\"true\"/>\n",
    "  <arg name=\"limited\" default=\"false\"/>\n",
    "  <arg name=\"paused\" default=\"false\"/>\n",
    "  <arg name=\"gzweb\" default=\"false\"/>\n",
    "  <arg name=\"verbose\" default=\"false\"/>\n",
    "  <!-- We resume the logic in empty_world.launch, changing only the name of the world to be launched -->\n",
    "  <include file=\"$(find gazebo_ros)/launch/empty_world.launch\">\n",
    "    <arg name=\"world_name\" value=\"$(find YOUR_PACKAGE_NAME)/worlds/YOUR_WORLD_NAME.world\"/> \n",
    "    <arg name=\"paused\" value=\"false\"/>\n",
    "    <arg name=\"use_sim_time\" value=\"true\"/>\n",
    "    <arg name=\"gui\" value=\"true\"/>\n",
    "    <arg name=\"recording\" value=\"false\"/>\n",
    "    <arg name=\"debug\" value=\"false\"/>\n",
    "  </include>\n",
    "  \n",
    "</launch>\n",
    "```"
   ]
  },
  {
   "cell_type": "markdown",
   "metadata": {},
   "source": [
    "* This is a typical launch file that specifies the world to be launched.\n",
    "* Specify package that you already have on your system and the name of the world you want to launch"
   ]
  },
  {
   "cell_type": "markdown",
   "metadata": {},
   "source": [
    "# To use roslaunch"
   ]
  },
  {
   "cell_type": "markdown",
   "metadata": {},
   "source": [
    "* A .launch file must be found in a launch folder inside a working ROS package made using catkin_create_pkg PACKAGE_NAME command.\n",
    "* It specfies the .world to be run which should be found in a worlds folder in a valid ROS package.\n",
    "* For more info regarding spawning (robot, controllers, models) using launch file:\n",
    "    * http://gazebosim.org/tutorials/?tut=ros_roslaunch\n",
    "    * Book: Carol Fairchild, ROS robotics by example\n",
    "    * Book: Wyatt Newman, A systematic approach to learning robot programming with ROS"
   ]
  }
 ],
 "metadata": {
  "kernelspec": {
   "display_name": "Python 3",
   "language": "python",
   "name": "python3"
  },
  "language_info": {
   "codemirror_mode": {
    "name": "ipython",
    "version": 3
   },
   "file_extension": ".py",
   "mimetype": "text/x-python",
   "name": "python",
   "nbconvert_exporter": "python",
   "pygments_lexer": "ipython3",
   "version": "3.7.0"
  },
  "toc": {
   "base_numbering": 1,
   "nav_menu": {},
   "number_sections": true,
   "sideBar": true,
   "skip_h1_title": false,
   "title_cell": "Table of Contents",
   "title_sidebar": "Contents",
   "toc_cell": false,
   "toc_position": {},
   "toc_section_display": true,
   "toc_window_display": false
  }
 },
 "nbformat": 4,
 "nbformat_minor": 4
}
