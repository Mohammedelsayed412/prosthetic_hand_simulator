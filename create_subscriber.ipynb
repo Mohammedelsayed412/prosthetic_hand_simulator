{
 "cells": [
  {
   "cell_type": "markdown",
   "metadata": {},
   "source": [
    "# Subscriber to kinect\n",
    "\n",
    "## Create Package\n",
    "\n",
    "`$ catkin_create_pkg ceslab_kinect std_msgs sensor_msgs cv_bridge roslib rospy roscpp` \n",
    "\n",
    "## Build Package\n",
    "* source environment setup file\n",
    "\n",
    "`$ source /opt/ros/melodic/setup.bash`\n",
    "\n",
    "* In catkin work space\n",
    "\n",
    "`$ catkin_make`\n",
    "\n"
   ]
  },
  {
   "cell_type": "markdown",
   "metadata": {},
   "source": [
    "## Add the subcriber\n",
    "* Create `scirpts` directory in the `~/catking_ws/src/ceslab_kinect/` directory which will include our subscriber code.\n",
    "* Move the `subscriber_image.py` file to this directory.\n",
    "* Run gazebo world then spawn the kinect sensor as we did while getting started.\n",
    "* In the catking work space source the setup.sh file\n",
    "\n",
    "`$ source ./devel/setup.bash`\n",
    "\n",
    "* Define the subscriber_image.py as executable\n",
    "\n",
    "`chmod +x ~/catkin_ws/src/ceslab_kinect/scripts/subscriber_image.py` \n",
    "\n",
    "* Run the subscriber script using rosrun as follows:\n",
    "\n",
    "`$ rosrun ceslab_kinect subscriber_image.py`\n",
    "\n",
    "### This will save the captured image in your work space directory."
   ]
  },
  {
   "cell_type": "markdown",
   "metadata": {},
   "source": [
    "## Some Errors that I faced with their Solutions \n",
    "* import command not found \n",
    " * type in your python script at the TOP\n",
    " ```python \n",
    "#!/usr/bin/python\n",
    " ```\n",
    "\n",
    "* /usr/bin/python^M: bad interpreter: No such file or directory\n",
    "\n",
    " * `sudo apt-get install dos2unix`\n",
    " * `dos2unix myscript.py` \n",
    "   * In my case:\n",
    "     * `dos2unix ~/catkin_ws/src/ceslab_kinect/scripts/subscriber_image.py`"
   ]
  },
  {
   "cell_type": "code",
   "execution_count": null,
   "metadata": {},
   "outputs": [],
   "source": []
  }
 ],
 "metadata": {
  "kernelspec": {
   "display_name": "Python 3",
   "language": "python",
   "name": "python3"
  },
  "language_info": {
   "codemirror_mode": {
    "name": "ipython",
    "version": 3
   },
   "file_extension": ".py",
   "mimetype": "text/x-python",
   "name": "python",
   "nbconvert_exporter": "python",
   "pygments_lexer": "ipython3",
   "version": "3.7.6"
  }
 },
 "nbformat": 4,
 "nbformat_minor": 4
}
