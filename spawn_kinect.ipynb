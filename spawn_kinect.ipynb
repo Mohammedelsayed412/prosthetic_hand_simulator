{
 "cells": [
  {
   "cell_type": "markdown",
   "metadata": {},
   "source": [
    "\n",
    "## Prerequisites\n",
    "* Install gazebo-9\n",
    "* Install ros melodic\n",
    "* Install gazebo_ros_pkgs\n",
    "\n",
    "`$ sudo apt-get install ros-melodic-gazebo-ros-pkgs ros-melodic-gazebo-ros-control`\n",
    "\n",
    "## Sawning kinect depth camera\n",
    "### Camera specs\n",
    "#### Image\n",
    "* Width = 640\n",
    "* Height = 480\n",
    "* Format : RGB 8 bit for each pixel\n",
    "\n",
    "#### Clipping:\n",
    "* Near = 0.05\n",
    "* Far = 3\n",
    "\n",
    "#### Always ON\n",
    "#### Update rate = 20"
   ]
  },
  {
   "cell_type": "markdown",
   "metadata": {},
   "source": [
    "## Insert the model (kinect camera)\n",
    "after running your world type the following command and replace `<file_path>` with the model file path (remove the <> brackets)\n",
    "\n",
    "`$ rosrun gazebo_ros spawn_model -file <file_path> -sdf -model kinect_ros`\n",
    "\n",
    "you can specify the kinect pose by adding the coordinates flags like this \n",
    "\n",
    "`$ rosrun gazebo_ros spawn_model -file <file_path> -sdf -x 0 -y 0 -z 0 -R 0 -P 0 -Y 0 -model kinect_ros`\n",
    "\n",
    "This will add the kinect camera at \n",
    "* position = origin \n",
    "* orientation\n",
    " * roll = 0\n",
    " * pitch = 0\n",
    " * yaw = 0\n",
    "    \n",
    "---\n",
    "**Note**\n",
    "\n",
    "You can change the kinect camera specs from the model.sdf file.\n",
    "\n",
    "---\n"
   ]
  },
  {
   "cell_type": "code",
   "execution_count": null,
   "metadata": {},
   "outputs": [],
   "source": []
  }
 ],
 "metadata": {
  "kernelspec": {
   "display_name": "Python 3",
   "language": "python",
   "name": "python3"
  },
  "language_info": {
   "codemirror_mode": {
    "name": "ipython",
    "version": 3
   },
   "file_extension": ".py",
   "mimetype": "text/x-python",
   "name": "python",
   "nbconvert_exporter": "python",
   "pygments_lexer": "ipython3",
   "version": "3.8.1"
  }
 },
 "nbformat": 4,
 "nbformat_minor": 4
}
