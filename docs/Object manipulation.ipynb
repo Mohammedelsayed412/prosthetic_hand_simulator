{
 "cells": [
  {
   "cell_type": "markdown",
   "metadata": {},
   "source": [
    "# Run code"
   ]
  },
  {
   "cell_type": "markdown",
   "metadata": {},
   "source": [
    "```roslaunch gazebo_ros empty_world.launch```\n",
    "* In another terminal:\n",
    "```\n",
    "   rosrun gazebo_ros spawn_model -database cafe_table -sdf -model cafe_table -y 0 -x -0\n",
    "   rosrun gazebo_ros spawn_model -database coke_can -sdf -model coke_can -reference_frame cafe_table::link -y 0 -x 0 -z 0.913\n",
    "   rosrun gazebo_ros spawn_model -database bowl -sdf -model bowl -reference_frame cafe_table::link -y 0 -x 0.2 -z 0.913\n",
    "   rosrun gazebo_ros spawn_model -database cricket_ball -sdf -model cricket_ball -reference_frame cafe_table::link -y 0 -x -0.1 -z 0.913\n",
    "   rosrun gazebo_ros spawn_model -database saucepan -sdf -model saucepan -reference_frame cafe_table::link -y 0.1 -x -0.3 -z 0.913\n",
    "   rosservice call gazebo/delete_model '{model_name: saucepan}'\n",
    "   rosservice call /gazebo/set_model_state '{model_state: { model_name: coke_can, pose: { position: { x: -0.2, y: 0.2 ,z: 0.913 }, orientation: {x: 0, y: 0.491983115673, z: 0, w: 0.870604813099 } }, twist: { linear: {x: 0.0 , y: 0 ,z: 0 } , angular: { x: 0.0 , y: 0 , z: 0.0 } } , reference_frame: cafe_table } }'\n",
    "```"
   ]
  },
  {
   "cell_type": "markdown",
   "metadata": {},
   "source": [
    "# Insert object"
   ]
  },
  {
   "cell_type": "markdown",
   "metadata": {},
   "source": [
    "1. Make sure that a gazebo world is **already running**, either by:\n",
    "    * running an empty world:\n",
    "    ```roslaunch gazebo_ros empty_world.launch```\n",
    "    * or running any other world:\n",
    "        * ```cd sim_env_ws/src\n",
    "           source devel/setup.sh\n",
    "           roslaunch prosthetic_gazebo tables_world.launch\n",
    "          ```\n",
    "2. Run commands:\n",
    "    * **Make sure that model name *-model model_name* isn't repeated**\n",
    "    * **table**=>```rosrun gazebo_ros spawn_model -database cafe_table -sdf -model cafe_table -y 5 -x -0.3```\n",
    "    * **To spawn objects relative to table**\n",
    "    * **coke_can**=>```rosrun gazebo_ros spawn_model -database coke_can -sdf -model coke_can -reference_frame cafe_table::link -y 0 -x 0 -z 0.913```\n",
    "    * **bowl**=>```rosrun gazebo_ros spawn_model -database bowl -sdf -model bowl -reference_frame cafe_table::link -y 0 -x 0.2 -z 0.913```\n",
    "    * **cricket ball**=>```rosrun gazebo_ros spawn_model -database cricket_ball -sdf -model cricket_ball -reference_frame cafe_table::link -y 0 -x -0.1 -z 0.913```\n",
    "    * **saucepan**=>```rosrun gazebo_ros spawn_model -database saucepan -sdf -model saucepan -reference_frame cafe_table::link -y 0 -x 0.2 -z 0.913```\n",
    "    * For list of available objects:https://bitbucket.org/osrf/gazebo_models/src/default/ or \n",
    "http://models.gazebosim.org/"
   ]
  },
  {
   "cell_type": "markdown",
   "metadata": {},
   "source": [
    "# Delete Object"
   ]
  },
  {
   "cell_type": "markdown",
   "metadata": {},
   "source": [
    "* To delete saucepan: ```rosservice call gazebo/delete_model '{model_name: saucepan}'```"
   ]
  },
  {
   "cell_type": "markdown",
   "metadata": {},
   "source": [
    "# Set Model State"
   ]
  },
  {
   "cell_type": "markdown",
   "metadata": {},
   "source": [
    "* Change position of can: ```rosservice call /gazebo/set_model_state '{model_state: { model_name: coke, pose: { position: { x: -0.2, y: 0.2 ,z: 0.913 }, orientation: {x: 0, y: 0.491983115673, z: 0, w: 0.870604813099 } }, twist: { linear: {x: 0.0 , y: 0 ,z: 0 } , angular: { x: 0.0 , y: 0 , z: 0.0 } } , reference_frame: cafe_table } }'```\n"
   ]
  },
  {
   "cell_type": "markdown",
   "metadata": {},
   "source": [
    "# Object manipulation services"
   ]
  },
  {
   "cell_type": "markdown",
   "metadata": {},
   "source": [
    "* These services allow the user to spawn and destroy models dynamically in simulation:\n",
    "\n",
    "    * **~/spawn_urdf_model**: gazebo_msgs/SpawnModel - service to spawn a Universal Robotic Description Format (URDF)\n",
    "\n",
    "    * **~/spawn_sdf_model**: gazebo_msgs/SpawnModel - service to spawn a model written in Gazebo Simulation Description Format (SDF)\n",
    "\n",
    "    * **~/delete_model**: gazebo_msgs/DeleteModel - service to delete a model from simulation.\n",
    "* Spawn services:\n",
    "    * **Insert**\n",
    "        * Using the service call method with a roslaunch file.http://gazebosim.org/tutorials/?tut=ros_roslaunch\n",
    "        * From command line:\n",
    "            * SDF from local model database:\n",
    "            ```rosrun gazebo_ros spawn_model -file `echo $GAZEBO_MODEL_PATH`/coke_can/model.sdf -sdf -model coke_can1 -y 0.2 -x -0.3 \n",
    "            ```\n",
    "            * SDF from the online model database:\n",
    "            ```rosrun gazebo_ros spawn_model -database coke_can -sdf -model coke_can3 -y 2.2 -x -0.3```\n",
    "        * ```rosrun gazebo_ros spawn_model -h```=> to see arguments\n",
    "    * **Delete**\n",
    "        * ```rosservice call gazebo/delete_model '{model_name: model_name}'```\n",
    "* State and property:\n",
    "    * services allow the user to set or get state and property information about simulation and objects in simulation\n",
    "    * get coke model information: ``` rosservice call gazebo/get_model_state '{model_name: coke}'```\n",
    "    * get a list of models in the world: ```rosservice call gazebo/get_world_properties```\n",
    "    * details of a specific model:```rosservice call gazebo/get_model_properties '{model_name: coke}'```\n",
    "    * Other things we can set: http://gazebosim.org/tutorials/?tut=ros_comm"
   ]
  }
 ],
 "metadata": {
  "kernelspec": {
   "display_name": "Python 3",
   "language": "python",
   "name": "python3"
  },
  "language_info": {
   "codemirror_mode": {
    "name": "ipython",
    "version": 3
   },
   "file_extension": ".py",
   "mimetype": "text/x-python",
   "name": "python",
   "nbconvert_exporter": "python",
   "pygments_lexer": "ipython3",
   "version": "3.7.0"
  },
  "toc": {
   "base_numbering": 1,
   "nav_menu": {},
   "number_sections": true,
   "sideBar": true,
   "skip_h1_title": false,
   "title_cell": "Table of Contents",
   "title_sidebar": "Contents",
   "toc_cell": false,
   "toc_position": {},
   "toc_section_display": true,
   "toc_window_display": false
  }
 },
 "nbformat": 4,
 "nbformat_minor": 4
}