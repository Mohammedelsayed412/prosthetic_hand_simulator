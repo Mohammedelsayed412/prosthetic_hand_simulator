{
 "cells": [
  {
   "cell_type": "markdown",
   "metadata": {},
   "source": [
    "# Run commands"
   ]
  },
  {
   "cell_type": "markdown",
   "metadata": {},
   "source": [
    "`\n",
    "cd sim_env_ws\n",
    "catkin_make\n",
    "source devel/setup.sh\n",
    "chmod +x src/prosthetic_gazebo/scripts/subscriber_image.py\n",
    "`"
   ]
  },
  {
   "cell_type": "markdown",
   "metadata": {},
   "source": [
    "## Run launch file"
   ]
  },
  {
   "cell_type": "markdown",
   "metadata": {},
   "source": [
    "`\n",
    "roslaunch prosthetic_gazebo sim_env.launch\n",
    "`"
   ]
  },
  {
   "cell_type": "markdown",
   "metadata": {},
   "source": [
    "## Spawn kinect and run subscriber"
   ]
  },
  {
   "cell_type": "markdown",
   "metadata": {},
   "source": [
    "```\n",
    "rosrun gazebo_ros spawn_model -file `echo $(rospack find prosthetic_gazebo)`/models/kinect/model.sdf -sdf -model kinect -y 0 -x -0.5 -z 0.913\n",
    "rosrun prosthetic_gazebo subscriber_image.py\n",
    "```\n"
   ]
  },
  {
   "cell_type": "markdown",
   "metadata": {},
   "source": [
    "## Spawn camera"
   ]
  },
  {
   "cell_type": "markdown",
   "metadata": {},
   "source": [
    "```\n",
    "rosrun gazebo_ros spawn_model -file `echo $(rospack find prosthetic_gazebo)`/models/camera/Camera_model.sdf -sdf -model camera -y 0 -x -0.8 -z 0.913\n",
    "```"
   ]
  },
  {
   "cell_type": "markdown",
   "metadata": {},
   "source": [
    "## Insert, delete and modify objects "
   ]
  },
  {
   "cell_type": "markdown",
   "metadata": {},
   "source": [
    "* Close gazebo then\n",
    "* ```\n",
    "    roslaunch gazebo_ros empty_world.launch\n",
    "    rosrun gazebo_ros spawn_model -database cafe_table -sdf -model cafe_table -y 0 -x -0\n",
    "    rosrun gazebo_ros spawn_model -database coke_can -sdf -model coke_can -reference_frame cafe_table::link -y 0 -x 0 -z 0.913\n",
    "    rosrun gazebo_ros spawn_model -database bowl -sdf -model bowl -reference_frame cafe_table::link -y 0 -x 0.2 -z 0.913\n",
    "    rosrun gazebo_ros spawn_model -database cricket_ball -sdf -model cricket_ball -reference_frame cafe_table::link -y 0 -x -0.1 -z 0.913\n",
    "    rosrun gazebo_ros spawn_model -database saucepan -sdf -model saucepan -reference_frame cafe_table::link -y 0.1 -x -0.3 -z 0.913\n",
    "    rosservice call gazebo/delete_model '{model_name: saucepan}'\n",
    "    rosservice call /gazebo/set_model_state '{model_state: { model_name: coke_can, pose: { position: { x: -0.2, y: 0.2 ,z: 0.913 }, orientation: {x: 0, y: 0.491983115673, z: 0, w: 0.870604813099 } }, twist: { linear: {x: 0.0 , y: 0 ,z: 0 } , angular: { x: 0.0 , y: 0 , z: 0.0 } } , reference_frame: cafe_table } }'\n",
    "```"
   ]
  }
 ],
 "metadata": {
  "kernelspec": {
   "display_name": "Python 3",
   "language": "python",
   "name": "python3"
  },
  "language_info": {
   "codemirror_mode": {
    "name": "ipython",
    "version": 3
   },
   "file_extension": ".py",
   "mimetype": "text/x-python",
   "name": "python",
   "nbconvert_exporter": "python",
   "pygments_lexer": "ipython3",
   "version": "3.7.0"
  },
  "toc": {
   "base_numbering": 1,
   "nav_menu": {},
   "number_sections": true,
   "sideBar": true,
   "skip_h1_title": false,
   "title_cell": "Table of Contents",
   "title_sidebar": "Contents",
   "toc_cell": false,
   "toc_position": {},
   "toc_section_display": true,
   "toc_window_display": false
  }
 },
 "nbformat": 4,
 "nbformat_minor": 4
}
